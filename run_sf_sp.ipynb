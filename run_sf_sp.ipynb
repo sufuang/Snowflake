{
 "cells": [
  {
   "cell_type": "markdown",
   "metadata": {},
   "source": [
    "# Run snowflake stored procedure \n",
    "- Please run 'create_sf_sp.jpynb to create a stored procedure first"
   ]
  },
  {
   "cell_type": "markdown",
   "metadata": {},
   "source": [
    "## Import packages/libraries "
   ]
  },
  {
   "cell_type": "code",
   "execution_count": null,
   "metadata": {},
   "outputs": [],
   "source": [
    "import snowflake.connector\n",
    "import sys \n",
    "import os.path\n",
    "from os import path"
   ]
  },
  {
   "cell_type": "markdown",
   "metadata": {},
   "source": [
    "## Step1: Get common codes  "
   ]
  },
  {
   "cell_type": "code",
   "execution_count": null,
   "metadata": {},
   "outputs": [],
   "source": [
    "prg_name = \"\"\n",
    "path_code = \"C:\\\\Users\\\\syue003\\\\wip_RecSys\\\\\"\n",
    "c_timedte = path_code + \"c_time_dte.py\" \n",
    "exec(compile(open(c_timedte, 'rb').read(),c_timedte, 'exec'))\n",
    "\"\"\"Get common functions to connect Python to Snowflake \"\"\"\n",
    "c_sf_com_fnc =  path_code + \"c_sf_com_fnc.py\"\n",
    "\n",
    "exec(compile(open(c_sf_com_fnc, 'rb').read(),c_sf_com_fnc, 'exec'))\n"
   ]
  },
  {
   "cell_type": "markdown",
   "metadata": {},
   "source": [
    "\n",
    "## Step 2: Enter stored procedure file name including path name\n",
    "  - If file name name is '', would use default value \n"
   ]
  },
  {
   "cell_type": "code",
   "execution_count": null,
   "metadata": {},
   "outputs": [],
   "source": [
    "    \n",
    "sf_sp_nm  = str(input(\"Hit 'Enter' for default stored procedure file or enter stored procedure name:\"))\n",
    "if sf_sp_nm == '':\n",
    "   sf_sp_nm  = \"sp_get_resource\"\n",
    "print(f\"The stored procedure is {sf_sp_nm}\") \n",
    "\n",
    "    "
   ]
  },
  {
   "cell_type": "markdown",
   "metadata": {},
   "source": [
    "## Step 3: Connect Python to Snowflake\n",
    " - Define dictionary for connect setting\n",
    " - Invoke cf_sf_connect to set connection \n",
    " - \"EDDM_DATA_READER_GG\", \"EDDM_BI_ENGINEER_GG\", "
   ]
  },
  {
   "cell_type": "code",
   "execution_count": null,
   "metadata": {},
   "outputs": [],
   "source": [
    "\n",
    "d_secrets = {\n",
    "    \"account\"   : \"abs_itds_dev.east-us-2.azure\",\n",
    "    \"role\"      : \"EDDM_BI_ENGINEER_GG\", \n",
    "    \"user\"      : \"syue003@safeway.com\",\n",
    "    \"warehouse\" : \"LOAD_WH\",            \n",
    "    \"database\"  : \"EDM_CONFIRMED_DEV\",\n",
    "    \"schema\"    : \"DW_C_PRODUCT\",\n",
    "    \"password\"  : \"Chungli$1\"\n",
    "    \n",
    "  }\n",
    "\n",
    "db_nm  = d_secrets[\"database\"]\n",
    "sch_nm = d_secrets[\"schema\"]\n",
    "\n",
    "\n",
    "connection = cf_sf_connect (d_secrets)\n"
   ]
  },
  {
   "cell_type": "markdown",
   "metadata": {},
   "source": [
    "## Step4: Run stored procedure"
   ]
  },
  {
   "cell_type": "code",
   "execution_count": null,
   "metadata": {},
   "outputs": [],
   "source": [
    "import datetime\n",
    "from datetime import datetime, timedelta, date\n",
    "import time "
   ]
  },
  {
   "cell_type": "code",
   "execution_count": null,
   "metadata": {},
   "outputs": [],
   "source": [
    " \n",
    "connection.execute_string(\"CALL sp_get_resource()\")\n"
   ]
  },
  {
   "cell_type": "code",
   "execution_count": null,
   "metadata": {},
   "outputs": [],
   "source": []
  }
 ],
 "metadata": {
  "kernelspec": {
   "display_name": "Python 3",
   "language": "python",
   "name": "python3"
  },
  "language_info": {
   "codemirror_mode": {
    "name": "ipython",
    "version": 3
   },
   "file_extension": ".py",
   "mimetype": "text/x-python",
   "name": "python",
   "nbconvert_exporter": "python",
   "pygments_lexer": "ipython3",
   "version": "3.7.3"
  }
 },
 "nbformat": 4,
 "nbformat_minor": 2
}
