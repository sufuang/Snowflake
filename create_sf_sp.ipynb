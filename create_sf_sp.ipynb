{
 "cells": [
  {
   "cell_type": "markdown",
   "metadata": {},
   "source": [
    "# Create snowflake stored procedure "
   ]
  },
  {
   "cell_type": "markdown",
   "metadata": {},
   "source": [
    "## Import packages/libraries "
   ]
  },
  {
   "cell_type": "code",
   "execution_count": 1,
   "metadata": {},
   "outputs": [],
   "source": [
    "import snowflake.connector\n",
    "import sys \n",
    "import os.path\n",
    "from os import path"
   ]
  },
  {
   "cell_type": "markdown",
   "metadata": {},
   "source": [
    "## Define function to read a file and return a string\n",
    "\n"
   ]
  },
  {
   "cell_type": "code",
   "execution_count": 2,
   "metadata": {},
   "outputs": [],
   "source": [
    "\n",
    "def f_read_file(p_file_path):\n",
    "    \"\"\"\n",
    "      module name : f_read_files\n",
    "      purpose     : Read a file and return a string \n",
    "      parameter\n",
    "        p_file_path   : file name with path\n",
    "  \n",
    "    \"\"\"\n",
    "    with open(p_file_path) as f:\n",
    "          str_text = f.read()\n",
    "    return str_text        "
   ]
  },
  {
   "cell_type": "markdown",
   "metadata": {},
   "source": [
    "## Step1: Get common codes  "
   ]
  },
  {
   "cell_type": "code",
   "execution_count": 3,
   "metadata": {},
   "outputs": [],
   "source": [
    "prg_name = \"\"\n",
    "path_code = \"C:\\\\Users\\\\syue003\\\\wip_RecSys\\\\\"\n",
    "c_timedte = path_code + \"c_time_dte.py\" \n",
    "exec(compile(open(c_timedte, 'rb').read(),c_timedte, 'exec'))\n",
    "\"\"\"Get common functions to connect Python to Snowflake \"\"\"\n",
    "c_sf_com_fnc =  path_code + \"c_sf_com_fnc.py\"\n",
    "\n",
    "exec(compile(open(c_sf_com_fnc, 'rb').read(),c_sf_com_fnc, 'exec'))\n"
   ]
  },
  {
   "cell_type": "markdown",
   "metadata": {},
   "source": [
    "\n",
    "## Step 2: Enter stored procedure file name including path name\n",
    "  - If file name name is '', would use default value \n"
   ]
  },
  {
   "cell_type": "code",
   "execution_count": 4,
   "metadata": {},
   "outputs": [
    {
     "name": "stdout",
     "output_type": "stream",
     "text": [
      "Hit 'Enter' for default stored procedure file or enter the path name + file name:\n",
      "The procedure file is C:\\SYUE\\Snowflask\\sp_get_resource.sql\n"
     ]
    }
   ],
   "source": [
    "    \n",
    "sf_sp_nm  = str(input(\"Hit 'Enter' for default stored procedure file or enter the path name + file name:\"))\n",
    "if sf_sp_nm == '':\n",
    "   sf_sp_nm  = \"C:\\\\SYUE\\\\Snowflask\\\\sp_get_resource.sql\"\n",
    "print(f\"The procedure file is {sf_sp_nm}\") \n",
    "if not path.exists(sf_sp_nm):  \n",
    "   print (f\"file {sf_sp_nm} does not exist\" )  \n",
    "   sys.exit() \n",
    "    "
   ]
  },
  {
   "cell_type": "markdown",
   "metadata": {},
   "source": [
    "## Step 3: Connect Python to Snowflake\n",
    " - Define dictionary for connect setting\n",
    " - Invoke cf_sf_connect to set connection \n",
    " - \"EDDM_DATA_READER_GG\", \"EDDM_BI_ENGINEER_GG\", "
   ]
  },
  {
   "cell_type": "code",
   "execution_count": 5,
   "metadata": {},
   "outputs": [
    {
     "name": "stdout",
     "output_type": "stream",
     "text": [
      "Initiating login request with your identity provider. A browser window should have opened for you to complete the login. If you can't see it, check existing browser windows, or your OS settings. Press CTRL+C to abort and try again...\n"
     ]
    }
   ],
   "source": [
    "\n",
    "d_secrets = {\n",
    "    \"account\"   : \"abs_itds_dev.east-us-2.azure\",\n",
    "    \"role\"      : \"EDDM_BI_ENGINEER_GG\", \n",
    "    \"user\"      : \"syue003@safeway.com\",\n",
    "    \"warehouse\" : \"LOAD_WH\",            \n",
    "    \"database\"  : \"EDM_CONFIRMED_DEV\",\n",
    "    \"schema\"    : \"DW_C_PRODUCT\",\n",
    "    \"password\"  : \"Chungli$1\"\n",
    "    \n",
    "  }\n",
    "\n",
    "db_nm  = d_secrets[\"database\"]\n",
    "sch_nm = d_secrets[\"schema\"]\n",
    "\n",
    "\n",
    "connection = cf_sf_connect (d_secrets)\n"
   ]
  },
  {
   "cell_type": "markdown",
   "metadata": {},
   "source": [
    "## Step4: Create and show stored procedure"
   ]
  },
  {
   "cell_type": "code",
   "execution_count": 6,
   "metadata": {},
   "outputs": [],
   "source": [
    "\n",
    "q_sp = f_read_file(sf_sp_nm)\n",
    "cur_q_sp = connection.cursor().execute(q_sp)"
   ]
  },
  {
   "cell_type": "code",
   "execution_count": 7,
   "metadata": {},
   "outputs": [
    {
     "data": {
      "text/plain": [
       "[<snowflake.connector.cursor.SnowflakeCursor at 0x8744eb8>]"
      ]
     },
     "execution_count": 7,
     "metadata": {},
     "output_type": "execute_result"
    }
   ],
   "source": [
    "connection.execute_string(\"show procedures\")"
   ]
  }
 ],
 "metadata": {
  "kernelspec": {
   "display_name": "Python 3",
   "language": "python",
   "name": "python3"
  },
  "language_info": {
   "codemirror_mode": {
    "name": "ipython",
    "version": 3
   },
   "file_extension": ".py",
   "mimetype": "text/x-python",
   "name": "python",
   "nbconvert_exporter": "python",
   "pygments_lexer": "ipython3",
   "version": "3.7.3"
  }
 },
 "nbformat": 4,
 "nbformat_minor": 2
}
